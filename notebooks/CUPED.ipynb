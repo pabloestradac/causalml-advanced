{
  "cells": [
    {
      "cell_type": "markdown",
      "metadata": {
        "id": "CD2QfkE-OV_q",
        "papermill": {
          "duration": 0.006583,
          "end_time": "2021-02-24T00:00:00.388859",
          "exception": false,
          "start_time": "2021-02-24T00:00:00.382276",
          "status": "completed"
        },
        "tags": []
      },
      "source": [
        "# Regression Adjustment and CUPED\n",
        "\n",
        "In this example, we will use Jonathan Roth's DGP with heterogenous effects. You are a data scientist at Udemy looking at the effects of taking a professional development $(D)$ certificate on earnings $(Y)$. You randomly assign a sample of individuals to get the certificate or not. Let $Z$ indicate how many online courses a person has taken in the past and $Y_{t-1}$ be their earnings last year.\n",
        "\n",
        "Suppose that taking online courses causes lower earnings $Y(0)$ in jobs that don't require any certificates, but higher earnings $Y(1)$ in jobs that do require certificates. \n"
      ]
    },
    {
      "cell_type": "code",
      "execution_count": 1,
      "metadata": {
        "id": "pCj5gpZAOap8"
      },
      "outputs": [],
      "source": [
        "import pandas as pd\n",
        "import numpy as np\n",
        "import statsmodels.formula.api as smf\n",
        "\n",
        "rng = np.random.default_rng(42)"
      ]
    },
    {
      "cell_type": "markdown",
      "metadata": {},
      "source": [
        "The simulated data looks like this"
      ]
    },
    {
      "cell_type": "code",
      "execution_count": 2,
      "metadata": {
        "id": "2NSMUY6qOV_0",
        "papermill": {
          "duration": 0.182998,
          "end_time": "2021-02-24T00:00:00.589410",
          "exception": false,
          "start_time": "2021-02-24T00:00:00.406412",
          "status": "completed"
        },
        "tags": []
      },
      "outputs": [
        {
          "data": {
            "text/html": [
              "<div>\n",
              "<style scoped>\n",
              "    .dataframe tbody tr th:only-of-type {\n",
              "        vertical-align: middle;\n",
              "    }\n",
              "\n",
              "    .dataframe tbody tr th {\n",
              "        vertical-align: top;\n",
              "    }\n",
              "\n",
              "    .dataframe thead th {\n",
              "        text-align: right;\n",
              "    }\n",
              "</style>\n",
              "<table border=\"1\" class=\"dataframe\">\n",
              "  <thead>\n",
              "    <tr style=\"text-align: right;\">\n",
              "      <th></th>\n",
              "      <th>Y</th>\n",
              "      <th>D</th>\n",
              "      <th>Z</th>\n",
              "      <th>Ypre</th>\n",
              "    </tr>\n",
              "  </thead>\n",
              "  <tbody>\n",
              "    <tr>\n",
              "      <th>0</th>\n",
              "      <td>57509</td>\n",
              "      <td>0</td>\n",
              "      <td>23</td>\n",
              "      <td>64092</td>\n",
              "    </tr>\n",
              "    <tr>\n",
              "      <th>1</th>\n",
              "      <td>62156</td>\n",
              "      <td>0</td>\n",
              "      <td>10</td>\n",
              "      <td>62686</td>\n",
              "    </tr>\n",
              "    <tr>\n",
              "      <th>2</th>\n",
              "      <td>48675</td>\n",
              "      <td>0</td>\n",
              "      <td>28</td>\n",
              "      <td>57842</td>\n",
              "    </tr>\n",
              "    <tr>\n",
              "      <th>3</th>\n",
              "      <td>46424</td>\n",
              "      <td>0</td>\n",
              "      <td>29</td>\n",
              "      <td>55492</td>\n",
              "    </tr>\n",
              "    <tr>\n",
              "      <th>4</th>\n",
              "      <td>55865</td>\n",
              "      <td>0</td>\n",
              "      <td>0</td>\n",
              "      <td>51106</td>\n",
              "    </tr>\n",
              "  </tbody>\n",
              "</table>\n",
              "</div>"
            ],
            "text/plain": [
              "       Y  D   Z   Ypre\n",
              "0  57509  0  23  64092\n",
              "1  62156  0  10  62686\n",
              "2  48675  0  28  57842\n",
              "3  46424  0  29  55492\n",
              "4  55865  0   0  51106"
            ]
          },
          "execution_count": 2,
          "metadata": {},
          "output_type": "execute_result"
        }
      ],
      "source": [
        "# Sample size\n",
        "n = 500\n",
        "\n",
        "# Number of online courses\n",
        "Z = rng.normal(20, 10, size=n)\n",
        "Z = np.where(Z < 0, 0, Z)  # truncate Z to be non-negative\n",
        "\n",
        "# Earnings before experiment\n",
        "Ypre = rng.normal(60000, 3000, size=n)\n",
        "\n",
        "# Potential earning\n",
        "Y0 = -500*Z + Ypre + rng.normal(5000, 1000, size=n)\n",
        "Y1 = 500*Z + 1.01*Ypre + rng.normal(5000, 1000, size=n)\n",
        "\n",
        "# Random treatment and observed earnings\n",
        "D = rng.binomial(1, .2, size=n)  # only 20% get treated\n",
        "Y = Y1 * D + Y0 * (1 - D)\n",
        "\n",
        "# Available data\n",
        "data = pd.DataFrame({'Y': Y, 'D': D, 'Z': Z, 'Ypre': Ypre}).round(0).astype(int)\n",
        "data.head()"
      ]
    },
    {
      "cell_type": "markdown",
      "metadata": {},
      "source": [
        "Descriptive statistics:"
      ]
    },
    {
      "cell_type": "code",
      "execution_count": 3,
      "metadata": {},
      "outputs": [
        {
          "data": {
            "text/html": [
              "<div>\n",
              "<style scoped>\n",
              "    .dataframe tbody tr th:only-of-type {\n",
              "        vertical-align: middle;\n",
              "    }\n",
              "\n",
              "    .dataframe tbody tr th {\n",
              "        vertical-align: top;\n",
              "    }\n",
              "\n",
              "    .dataframe thead th {\n",
              "        text-align: right;\n",
              "    }\n",
              "</style>\n",
              "<table border=\"1\" class=\"dataframe\">\n",
              "  <thead>\n",
              "    <tr style=\"text-align: right;\">\n",
              "      <th></th>\n",
              "      <th>Y</th>\n",
              "      <th>D</th>\n",
              "      <th>Z</th>\n",
              "      <th>Ypre</th>\n",
              "    </tr>\n",
              "  </thead>\n",
              "  <tbody>\n",
              "    <tr>\n",
              "      <th>count</th>\n",
              "      <td>500</td>\n",
              "      <td>500</td>\n",
              "      <td>500</td>\n",
              "      <td>500</td>\n",
              "    </tr>\n",
              "    <tr>\n",
              "      <th>mean</th>\n",
              "      <td>58853</td>\n",
              "      <td>0</td>\n",
              "      <td>20</td>\n",
              "      <td>59866</td>\n",
              "    </tr>\n",
              "    <tr>\n",
              "      <th>std</th>\n",
              "      <td>9700</td>\n",
              "      <td>0</td>\n",
              "      <td>10</td>\n",
              "      <td>3055</td>\n",
              "    </tr>\n",
              "    <tr>\n",
              "      <th>min</th>\n",
              "      <td>37850</td>\n",
              "      <td>0</td>\n",
              "      <td>0</td>\n",
              "      <td>49055</td>\n",
              "    </tr>\n",
              "    <tr>\n",
              "      <th>25%</th>\n",
              "      <td>52452</td>\n",
              "      <td>0</td>\n",
              "      <td>13</td>\n",
              "      <td>57825</td>\n",
              "    </tr>\n",
              "    <tr>\n",
              "      <th>50%</th>\n",
              "      <td>56796</td>\n",
              "      <td>0</td>\n",
              "      <td>20</td>\n",
              "      <td>60026</td>\n",
              "    </tr>\n",
              "    <tr>\n",
              "      <th>75%</th>\n",
              "      <td>63446</td>\n",
              "      <td>0</td>\n",
              "      <td>26</td>\n",
              "      <td>61788</td>\n",
              "    </tr>\n",
              "    <tr>\n",
              "      <th>max</th>\n",
              "      <td>90422</td>\n",
              "      <td>1</td>\n",
              "      <td>49</td>\n",
              "      <td>69537</td>\n",
              "    </tr>\n",
              "  </tbody>\n",
              "</table>\n",
              "</div>"
            ],
            "text/plain": [
              "           Y    D    Z   Ypre\n",
              "count    500  500  500    500\n",
              "mean   58853    0   20  59866\n",
              "std     9700    0   10   3055\n",
              "min    37850    0    0  49055\n",
              "25%    52452    0   13  57825\n",
              "50%    56796    0   20  60026\n",
              "75%    63446    0   26  61788\n",
              "max    90422    1   49  69537"
            ]
          },
          "execution_count": 3,
          "metadata": {},
          "output_type": "execute_result"
        }
      ],
      "source": [
        "data.describe().round(0).astype(int)"
      ]
    },
    {
      "cell_type": "markdown",
      "metadata": {},
      "source": [
        "## Regression Adjustment"
      ]
    },
    {
      "cell_type": "markdown",
      "metadata": {},
      "source": [
        "Classical 2-sample approach, no adjustment (CL)"
      ]
    },
    {
      "cell_type": "code",
      "execution_count": 4,
      "metadata": {},
      "outputs": [
        {
          "data": {
            "text/html": [
              "<table class=\"simpletable\">\n",
              "<tr>\n",
              "      <td></td>         <th>coef</th>     <th>std err</th>      <th>z</th>      <th>P>|z|</th>  <th>[0.025</th>    <th>0.975]</th>  \n",
              "</tr>\n",
              "<tr>\n",
              "  <th>Intercept</th> <td>   10.9100</td> <td>    0.005</td> <td> 2027.965</td> <td> 0.000</td> <td>   10.899</td> <td>   10.921</td>\n",
              "</tr>\n",
              "<tr>\n",
              "  <th>D</th>         <td>    0.3085</td> <td>    0.009</td> <td>   33.105</td> <td> 0.000</td> <td>    0.290</td> <td>    0.327</td>\n",
              "</tr>\n",
              "</table>"
            ],
            "text/plain": [
              "<class 'statsmodels.iolib.table.SimpleTable'>"
            ]
          },
          "execution_count": 4,
          "metadata": {},
          "output_type": "execute_result"
        }
      ],
      "source": [
        "CL = smf.ols(\"np.log(Y) ~ D\", data=data).fit(cov_type='HC1')\n",
        "CL.summary().tables[1]"
      ]
    },
    {
      "cell_type": "markdown",
      "metadata": {},
      "source": [
        "Classical linear regression adjustment (CRA)"
      ]
    },
    {
      "cell_type": "code",
      "execution_count": 5,
      "metadata": {},
      "outputs": [
        {
          "data": {
            "text/html": [
              "<table class=\"simpletable\">\n",
              "<tr>\n",
              "        <td></td>          <th>coef</th>     <th>std err</th>      <th>z</th>      <th>P>|z|</th>  <th>[0.025</th>    <th>0.975]</th>  \n",
              "</tr>\n",
              "<tr>\n",
              "  <th>Intercept</th>    <td>   -0.7023</td> <td>    0.573</td> <td>   -1.225</td> <td> 0.221</td> <td>   -1.826</td> <td>    0.422</td>\n",
              "</tr>\n",
              "<tr>\n",
              "  <th>D</th>            <td>    0.3213</td> <td>    0.012</td> <td>   26.618</td> <td> 0.000</td> <td>    0.298</td> <td>    0.345</td>\n",
              "</tr>\n",
              "<tr>\n",
              "  <th>Z</th>            <td>   -0.0065</td> <td>    0.000</td> <td>  -14.583</td> <td> 0.000</td> <td>   -0.007</td> <td>   -0.006</td>\n",
              "</tr>\n",
              "<tr>\n",
              "  <th>np.log(Ypre)</th> <td>    1.0673</td> <td>    0.052</td> <td>   20.504</td> <td> 0.000</td> <td>    0.965</td> <td>    1.169</td>\n",
              "</tr>\n",
              "</table>"
            ],
            "text/plain": [
              "<class 'statsmodels.iolib.table.SimpleTable'>"
            ]
          },
          "execution_count": 5,
          "metadata": {},
          "output_type": "execute_result"
        }
      ],
      "source": [
        "CRA = smf.ols(\"np.log(Y) ~ D + Z + np.log(Ypre)\", data=data).fit(cov_type='HC1')\n",
        "CRA.summary().tables[1]"
      ]
    },
    {
      "cell_type": "markdown",
      "metadata": {},
      "source": [
        "Interactive regression adjustment (IRA)"
      ]
    },
    {
      "cell_type": "code",
      "execution_count": 6,
      "metadata": {},
      "outputs": [
        {
          "data": {
            "text/html": [
              "<table class=\"simpletable\">\n",
              "<tr>\n",
              "      <td></td>         <th>coef</th>     <th>std err</th>      <th>z</th>      <th>P>|z|</th>  <th>[0.025</th>    <th>0.975]</th>  \n",
              "</tr>\n",
              "<tr>\n",
              "  <th>Intercept</th> <td>   10.9075</td> <td>    0.001</td> <td> 1.03e+04</td> <td> 0.000</td> <td>   10.905</td> <td>   10.910</td>\n",
              "</tr>\n",
              "<tr>\n",
              "  <th>D</th>         <td>    0.3171</td> <td>    0.002</td> <td>  185.078</td> <td> 0.000</td> <td>    0.314</td> <td>    0.320</td>\n",
              "</tr>\n",
              "<tr>\n",
              "  <th>Z_dm</th>      <td>   -0.0092</td> <td>    0.000</td> <td>  -71.200</td> <td> 0.000</td> <td>   -0.009</td> <td>   -0.009</td>\n",
              "</tr>\n",
              "<tr>\n",
              "  <th>Z_dm:D</th>    <td>    0.0159</td> <td>    0.000</td> <td>   86.739</td> <td> 0.000</td> <td>    0.016</td> <td>    0.016</td>\n",
              "</tr>\n",
              "<tr>\n",
              "  <th>Ypre_dm</th>   <td>    1.0601</td> <td>    0.023</td> <td>   46.578</td> <td> 0.000</td> <td>    1.016</td> <td>    1.105</td>\n",
              "</tr>\n",
              "<tr>\n",
              "  <th>Ypre_dm:D</th> <td>   -0.3225</td> <td>    0.040</td> <td>   -7.964</td> <td> 0.000</td> <td>   -0.402</td> <td>   -0.243</td>\n",
              "</tr>\n",
              "</table>"
            ],
            "text/plain": [
              "<class 'statsmodels.iolib.table.SimpleTable'>"
            ]
          },
          "execution_count": 6,
          "metadata": {},
          "output_type": "execute_result"
        }
      ],
      "source": [
        "# Demean Z and Ypre\n",
        "data['Z_dm'] = data['Z'] - data['Z'].mean()\n",
        "data['Ypre_dm'] = np.log(data['Ypre']) - np.log(data['Ypre']).mean()\n",
        "\n",
        "# Interactive regression adjusment (IRA)\n",
        "IRA = smf.ols(\"np.log(Y) ~ D + Z_dm + Z_dm*D + Ypre_dm + Ypre_dm*D\", data=data).fit(cov_type='HC1')\n",
        "IRA.summary().tables[1]"
      ]
    },
    {
      "cell_type": "markdown",
      "metadata": {},
      "source": [
        "Let's compare standard errors"
      ]
    },
    {
      "cell_type": "code",
      "execution_count": 7,
      "metadata": {},
      "outputs": [
        {
          "name": "stdout",
          "output_type": "stream",
          "text": [
            "CL se: 0.00932\n",
            "CRA se: 0.01207\n",
            "IRA se: 0.00171\n"
          ]
        }
      ],
      "source": [
        "print('CL se:', CL.bse['D'].round(5))\n",
        "print('CRA se:', CRA.bse['D'].round(5))\n",
        "print('IRA se:', IRA.bse['D'].round(5))"
      ]
    },
    {
      "cell_type": "markdown",
      "metadata": {},
      "source": [
        "Observe that CRA delivers estimates that are less efficient than CL (pointed out by Freedman), whereas IRA delivers estimates that are more efficient (pointed out by Lin). In order for CRA to be more efficient than CL, we need the linear model to be a correct model of the conditional expectation function of Y given D and X, which is not the case here."
      ]
    },
    {
      "cell_type": "markdown",
      "metadata": {},
      "source": [
        "## CUPED: Controlled-Experiment using Pre-Experiment Data\n",
        "\n",
        "This is a very popular technique in business settings to increase the power of RCTs.\n",
        "\n",
        "For a recent perspective on CUPED, see \n",
        "- [A New Look at CUPED in 2023](https://arxiv.org/pdf/2312.02935)\n",
        "- [Powering Experiments with CUPED](https://towardsdatascience.com/powering-experiments-with-cuped-and-double-machine-learning-34dc2f3d3284)\n",
        "- [Understanding CUPED](https://matteocourthoud.github.io/post/cuped/).\n",
        "\n",
        "Steps to implement CUPED:\n",
        "1. Regress $Y$ on $X \\equiv [Z, Y_{t-1}]$ and obtain the residuals $\\hat{Y}_{\\text{cuped}} = Y - \\hat{\\beta}X$.\n",
        "2. Regress $\\hat{Y}_{\\text{cuped}}$ on $D$ and obtain the treatment effect\n",
        "\n",
        "However, this implementation might not work here since we have heterogeneous treatment effect."
      ]
    },
    {
      "cell_type": "code",
      "execution_count": 8,
      "metadata": {
        "id": "39OJGstfLTfh"
      },
      "outputs": [
        {
          "data": {
            "text/html": [
              "<table class=\"simpletable\">\n",
              "<tr>\n",
              "      <td></td>         <th>coef</th>     <th>std err</th>      <th>z</th>      <th>P>|z|</th>  <th>[0.025</th>    <th>0.975]</th>  \n",
              "</tr>\n",
              "<tr>\n",
              "  <th>Intercept</th> <td>   -0.0619</td> <td>    0.002</td> <td>  -34.524</td> <td> 0.000</td> <td>   -0.065</td> <td>   -0.058</td>\n",
              "</tr>\n",
              "<tr>\n",
              "  <th>D</th>         <td>    0.3189</td> <td>    0.012</td> <td>   26.337</td> <td> 0.000</td> <td>    0.295</td> <td>    0.343</td>\n",
              "</tr>\n",
              "</table>"
            ],
            "text/plain": [
              "<class 'statsmodels.iolib.table.SimpleTable'>"
            ]
          },
          "execution_count": 8,
          "metadata": {},
          "output_type": "execute_result"
        }
      ],
      "source": [
        "# Compute residuals\n",
        "data['Y_tilde'] = smf.ols(\"np.log(Y) ~ Z_dm + Ypre_dm\", data=data).fit().resid\n",
        "cuped = smf.ols(\"Y_tilde ~ D\", data=data).fit(cov_type='HC1')\n",
        "cuped.summary().tables[1]"
      ]
    },
    {
      "cell_type": "code",
      "execution_count": 9,
      "metadata": {},
      "outputs": [
        {
          "name": "stdout",
          "output_type": "stream",
          "text": [
            "CUPED se: 0.01211\n"
          ]
        }
      ],
      "source": [
        "print(\"CUPED se:\", cuped.bse[\"D\"].round(5))"
      ]
    },
    {
      "cell_type": "code",
      "execution_count": 14,
      "metadata": {},
      "outputs": [
        {
          "name": "stdout",
          "output_type": "stream",
          "text": [
            "[NbConvertApp] Converting notebook CUPED.ipynb to html\n",
            "[NbConvertApp] Writing 588163 bytes to CUPED.html\n"
          ]
        }
      ],
      "source": [
        "!jupyter nbconvert --to html --no-input CUPED.ipynb"
      ]
    }
  ],
  "metadata": {
    "colab": {
      "provenance": []
    },
    "kernelspec": {
      "display_name": "Python 3 (ipykernel)",
      "language": "python",
      "name": "python3"
    },
    "language_info": {
      "codemirror_mode": {
        "name": "ipython",
        "version": 3
      },
      "file_extension": ".py",
      "mimetype": "text/x-python",
      "name": "python",
      "nbconvert_exporter": "python",
      "pygments_lexer": "ipython3",
      "version": "3.9.12"
    },
    "papermill": {
      "default_parameters": {},
      "duration": 7.390855,
      "end_time": "2021-02-24T00:00:04.661485",
      "environment_variables": {},
      "exception": null,
      "input_path": "__notebook__.ipynb",
      "output_path": "__notebook__.ipynb",
      "parameters": {},
      "start_time": "2021-02-23T23:59:57.270630",
      "version": "2.2.2"
    }
  },
  "nbformat": 4,
  "nbformat_minor": 0
}
