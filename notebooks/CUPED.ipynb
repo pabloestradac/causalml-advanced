{
  "cells": [
    {
      "cell_type": "markdown",
      "metadata": {
        "id": "CD2QfkE-OV_q",
        "papermill": {
          "duration": 0.006583,
          "end_time": "2021-02-24T00:00:00.388859",
          "exception": false,
          "start_time": "2021-02-24T00:00:00.382276",
          "status": "completed"
        },
        "tags": []
      },
      "source": [
        "# Regression Adjustment and CUPED\n",
        "\n",
        "In this example, we will use Jonathan Roth's DGP with heterogenous effects. You are a data scientist at Udemy looking at the effects of taking a professional development $(D)$ certificate on earnings $(Y)$. You randomly assign a sample of individuals to get the certificate or not. Let $Z$ indicate how many online courses a person has taken in the past and $Y_{t-1}$ be their earnings last year.\n",
        "\n",
        "Suppose that taking online courses causes lower earnings $Y(0)$ in jobs that don't require any certificates, but higher earnings $Y(1)$ in jobs that do require certificates. \n"
      ]
    },
    {
      "cell_type": "code",
      "execution_count": 223,
      "metadata": {
        "id": "pCj5gpZAOap8"
      },
      "outputs": [],
      "source": [
        "import pandas as pd\n",
        "import numpy as np\n",
        "import statsmodels.formula.api as smf\n",
        "\n",
        "rng = np.random.default_rng(42)"
      ]
    },
    {
      "cell_type": "code",
      "execution_count": 224,
      "metadata": {
        "id": "2NSMUY6qOV_0",
        "papermill": {
          "duration": 0.182998,
          "end_time": "2021-02-24T00:00:00.589410",
          "exception": false,
          "start_time": "2021-02-24T00:00:00.406412",
          "status": "completed"
        },
        "tags": []
      },
      "outputs": [
        {
          "data": {
            "text/html": [
              "<div>\n",
              "<style scoped>\n",
              "    .dataframe tbody tr th:only-of-type {\n",
              "        vertical-align: middle;\n",
              "    }\n",
              "\n",
              "    .dataframe tbody tr th {\n",
              "        vertical-align: top;\n",
              "    }\n",
              "\n",
              "    .dataframe thead th {\n",
              "        text-align: right;\n",
              "    }\n",
              "</style>\n",
              "<table border=\"1\" class=\"dataframe\">\n",
              "  <thead>\n",
              "    <tr style=\"text-align: right;\">\n",
              "      <th></th>\n",
              "      <th>Y</th>\n",
              "      <th>D</th>\n",
              "      <th>Z</th>\n",
              "      <th>Ypre</th>\n",
              "    </tr>\n",
              "  </thead>\n",
              "  <tbody>\n",
              "    <tr>\n",
              "      <th>0</th>\n",
              "      <td>57509</td>\n",
              "      <td>0</td>\n",
              "      <td>23</td>\n",
              "      <td>64092</td>\n",
              "    </tr>\n",
              "    <tr>\n",
              "      <th>1</th>\n",
              "      <td>62156</td>\n",
              "      <td>0</td>\n",
              "      <td>10</td>\n",
              "      <td>62686</td>\n",
              "    </tr>\n",
              "    <tr>\n",
              "      <th>2</th>\n",
              "      <td>48675</td>\n",
              "      <td>0</td>\n",
              "      <td>28</td>\n",
              "      <td>57842</td>\n",
              "    </tr>\n",
              "    <tr>\n",
              "      <th>3</th>\n",
              "      <td>46424</td>\n",
              "      <td>0</td>\n",
              "      <td>29</td>\n",
              "      <td>55492</td>\n",
              "    </tr>\n",
              "    <tr>\n",
              "      <th>4</th>\n",
              "      <td>55865</td>\n",
              "      <td>0</td>\n",
              "      <td>0</td>\n",
              "      <td>51106</td>\n",
              "    </tr>\n",
              "    <tr>\n",
              "      <th>...</th>\n",
              "      <td>...</td>\n",
              "      <td>...</td>\n",
              "      <td>...</td>\n",
              "      <td>...</td>\n",
              "    </tr>\n",
              "    <tr>\n",
              "      <th>495</th>\n",
              "      <td>50276</td>\n",
              "      <td>0</td>\n",
              "      <td>29</td>\n",
              "      <td>61058</td>\n",
              "    </tr>\n",
              "    <tr>\n",
              "      <th>496</th>\n",
              "      <td>66780</td>\n",
              "      <td>0</td>\n",
              "      <td>2</td>\n",
              "      <td>62300</td>\n",
              "    </tr>\n",
              "    <tr>\n",
              "      <th>497</th>\n",
              "      <td>55891</td>\n",
              "      <td>0</td>\n",
              "      <td>17</td>\n",
              "      <td>60364</td>\n",
              "    </tr>\n",
              "    <tr>\n",
              "      <th>498</th>\n",
              "      <td>66058</td>\n",
              "      <td>0</td>\n",
              "      <td>0</td>\n",
              "      <td>60392</td>\n",
              "    </tr>\n",
              "    <tr>\n",
              "      <th>499</th>\n",
              "      <td>63765</td>\n",
              "      <td>0</td>\n",
              "      <td>5</td>\n",
              "      <td>62471</td>\n",
              "    </tr>\n",
              "  </tbody>\n",
              "</table>\n",
              "<p>500 rows × 4 columns</p>\n",
              "</div>"
            ],
            "text/plain": [
              "         Y  D   Z   Ypre\n",
              "0    57509  0  23  64092\n",
              "1    62156  0  10  62686\n",
              "2    48675  0  28  57842\n",
              "3    46424  0  29  55492\n",
              "4    55865  0   0  51106\n",
              "..     ... ..  ..    ...\n",
              "495  50276  0  29  61058\n",
              "496  66780  0   2  62300\n",
              "497  55891  0  17  60364\n",
              "498  66058  0   0  60392\n",
              "499  63765  0   5  62471\n",
              "\n",
              "[500 rows x 4 columns]"
            ]
          },
          "execution_count": 224,
          "metadata": {},
          "output_type": "execute_result"
        }
      ],
      "source": [
        "# Sample size\n",
        "n = 500\n",
        "\n",
        "# Number of online courses\n",
        "Z = rng.normal(20, 10, size=n)\n",
        "Z = np.where(Z < 0, 0, Z)  # truncate Z to be non-negative\n",
        "\n",
        "# Earnings before experiment\n",
        "Ypre = rng.normal(60000, 3000, size=n)\n",
        "\n",
        "# Potential earning\n",
        "Y0 = -500*Z + Ypre + rng.normal(5000, 1000, size=n)\n",
        "Y1 = 500*Z + 1.05*Ypre + rng.normal(5000, 1000, size=n)\n",
        "\n",
        "# Random treatment and observed earnings\n",
        "D = rng.binomial(1, .2, size=n)  # only 20% get treated\n",
        "Y = Y1 * D + Y0 * (1 - D)\n",
        "\n",
        "# Available data\n",
        "data = pd.DataFrame({'Y': Y, 'D': D, 'Z': Z, 'Ypre': Ypre}).round(0).astype(int)\n",
        "data"
      ]
    },
    {
      "cell_type": "code",
      "execution_count": 225,
      "metadata": {},
      "outputs": [
        {
          "data": {
            "text/html": [
              "<div>\n",
              "<style scoped>\n",
              "    .dataframe tbody tr th:only-of-type {\n",
              "        vertical-align: middle;\n",
              "    }\n",
              "\n",
              "    .dataframe tbody tr th {\n",
              "        vertical-align: top;\n",
              "    }\n",
              "\n",
              "    .dataframe thead th {\n",
              "        text-align: right;\n",
              "    }\n",
              "</style>\n",
              "<table border=\"1\" class=\"dataframe\">\n",
              "  <thead>\n",
              "    <tr style=\"text-align: right;\">\n",
              "      <th></th>\n",
              "      <th>Y</th>\n",
              "      <th>D</th>\n",
              "      <th>Z</th>\n",
              "      <th>Ypre</th>\n",
              "    </tr>\n",
              "  </thead>\n",
              "  <tbody>\n",
              "    <tr>\n",
              "      <th>count</th>\n",
              "      <td>500</td>\n",
              "      <td>500</td>\n",
              "      <td>500</td>\n",
              "      <td>500</td>\n",
              "    </tr>\n",
              "    <tr>\n",
              "      <th>mean</th>\n",
              "      <td>59313</td>\n",
              "      <td>0</td>\n",
              "      <td>20</td>\n",
              "      <td>59866</td>\n",
              "    </tr>\n",
              "    <tr>\n",
              "      <th>std</th>\n",
              "      <td>10476</td>\n",
              "      <td>0</td>\n",
              "      <td>10</td>\n",
              "      <td>3055</td>\n",
              "    </tr>\n",
              "    <tr>\n",
              "      <th>min</th>\n",
              "      <td>37850</td>\n",
              "      <td>0</td>\n",
              "      <td>0</td>\n",
              "      <td>49055</td>\n",
              "    </tr>\n",
              "    <tr>\n",
              "      <th>25%</th>\n",
              "      <td>52452</td>\n",
              "      <td>0</td>\n",
              "      <td>13</td>\n",
              "      <td>57825</td>\n",
              "    </tr>\n",
              "    <tr>\n",
              "      <th>50%</th>\n",
              "      <td>56796</td>\n",
              "      <td>0</td>\n",
              "      <td>20</td>\n",
              "      <td>60026</td>\n",
              "    </tr>\n",
              "    <tr>\n",
              "      <th>75%</th>\n",
              "      <td>63448</td>\n",
              "      <td>0</td>\n",
              "      <td>26</td>\n",
              "      <td>61788</td>\n",
              "    </tr>\n",
              "    <tr>\n",
              "      <th>max</th>\n",
              "      <td>92875</td>\n",
              "      <td>1</td>\n",
              "      <td>49</td>\n",
              "      <td>69537</td>\n",
              "    </tr>\n",
              "  </tbody>\n",
              "</table>\n",
              "</div>"
            ],
            "text/plain": [
              "           Y    D    Z   Ypre\n",
              "count    500  500  500    500\n",
              "mean   59313    0   20  59866\n",
              "std    10476    0   10   3055\n",
              "min    37850    0    0  49055\n",
              "25%    52452    0   13  57825\n",
              "50%    56796    0   20  60026\n",
              "75%    63448    0   26  61788\n",
              "max    92875    1   49  69537"
            ]
          },
          "execution_count": 225,
          "metadata": {},
          "output_type": "execute_result"
        }
      ],
      "source": [
        "data.describe().round(0).astype(int)"
      ]
    },
    {
      "cell_type": "markdown",
      "metadata": {},
      "source": [
        "## Regression Adjustment"
      ]
    },
    {
      "cell_type": "code",
      "execution_count": 226,
      "metadata": {},
      "outputs": [
        {
          "name": "stdout",
          "output_type": "stream",
          "text": [
            "                            OLS Regression Results                            \n",
            "==============================================================================\n",
            "Dep. Variable:              np.log(Y)   R-squared:                       0.634\n",
            "Model:                            OLS   Adj. R-squared:                  0.634\n",
            "Method:                 Least Squares   F-statistic:                     1364.\n",
            "Date:                Wed, 04 Sep 2024   Prob (F-statistic):          1.00e-144\n",
            "Time:                        14:17:49   Log-Likelihood:                 431.82\n",
            "No. Observations:                 500   AIC:                            -859.6\n",
            "Df Residuals:                     498   BIC:                            -851.2\n",
            "Df Model:                           1                                         \n",
            "Covariance Type:                  HC1                                         \n",
            "==============================================================================\n",
            "                 coef    std err          z      P>|z|      [0.025      0.975]\n",
            "------------------------------------------------------------------------------\n",
            "Intercept     10.9100      0.005   2027.965      0.000      10.899      10.921\n",
            "D              0.3399      0.009     36.933      0.000       0.322       0.358\n",
            "==============================================================================\n",
            "Omnibus:                       11.696   Durbin-Watson:                   1.908\n",
            "Prob(Omnibus):                  0.003   Jarque-Bera (JB):               11.852\n",
            "Skew:                          -0.355   Prob(JB):                      0.00267\n",
            "Kurtosis:                       3.252   Cond. No.                         2.64\n",
            "==============================================================================\n",
            "\n",
            "Notes:\n",
            "[1] Standard Errors are heteroscedasticity robust (HC1)\n"
          ]
        }
      ],
      "source": [
        "# Classical 2-sample approach, no adjustment (CL)\n",
        "CL = smf.ols(\"np.log(Y) ~ D\", data=data).fit(cov_type='HC1')\n",
        "print(CL.summary())"
      ]
    },
    {
      "cell_type": "code",
      "execution_count": 227,
      "metadata": {},
      "outputs": [
        {
          "name": "stdout",
          "output_type": "stream",
          "text": [
            "                            OLS Regression Results                            \n",
            "==============================================================================\n",
            "Dep. Variable:              np.log(Y)   R-squared:                       0.876\n",
            "Model:                            OLS   Adj. R-squared:                  0.876\n",
            "Method:                 Least Squares   F-statistic:                     564.5\n",
            "Date:                Wed, 04 Sep 2024   Prob (F-statistic):          1.83e-159\n",
            "Time:                        14:17:49   Log-Likelihood:                 702.82\n",
            "No. Observations:                 500   AIC:                            -1398.\n",
            "Df Residuals:                     496   BIC:                            -1381.\n",
            "Df Model:                           3                                         \n",
            "Covariance Type:                  HC1                                         \n",
            "================================================================================\n",
            "                   coef    std err          z      P>|z|      [0.025      0.975]\n",
            "--------------------------------------------------------------------------------\n",
            "Intercept       -0.7079      0.566     -1.250      0.211      -1.818       0.402\n",
            "D                0.3527      0.012     29.604      0.000       0.329       0.376\n",
            "Z               -0.0065      0.000    -14.836      0.000      -0.007      -0.006\n",
            "np.log(Ypre)     1.0679      0.051     20.778      0.000       0.967       1.169\n",
            "==============================================================================\n",
            "Omnibus:                       65.612   Durbin-Watson:                   1.988\n",
            "Prob(Omnibus):                  0.000   Jarque-Bera (JB):              584.903\n",
            "Skew:                          -0.027   Prob(JB):                    9.77e-128\n",
            "Kurtosis:                       8.298   Cond. No.                     5.24e+03\n",
            "==============================================================================\n",
            "\n",
            "Notes:\n",
            "[1] Standard Errors are heteroscedasticity robust (HC1)\n",
            "[2] The condition number is large, 5.24e+03. This might indicate that there are\n",
            "strong multicollinearity or other numerical problems.\n"
          ]
        }
      ],
      "source": [
        "# Classical linear regression adjustment (CRA)\n",
        "CRA = smf.ols(\"np.log(Y) ~ D + Z + np.log(Ypre)\", data=data).fit(cov_type='HC1')\n",
        "print(CRA.summary())\n"
      ]
    },
    {
      "cell_type": "code",
      "execution_count": 228,
      "metadata": {},
      "outputs": [
        {
          "name": "stdout",
          "output_type": "stream",
          "text": [
            "                            OLS Regression Results                            \n",
            "==============================================================================\n",
            "Dep. Variable:              np.log(Y)   R-squared:                       0.986\n",
            "Model:                            OLS   Adj. R-squared:                  0.986\n",
            "Method:                 Least Squares   F-statistic:                 1.046e+04\n",
            "Date:                Wed, 04 Sep 2024   Prob (F-statistic):               0.00\n",
            "Time:                        14:17:49   Log-Likelihood:                 1252.4\n",
            "No. Observations:                 500   AIC:                            -2493.\n",
            "Df Residuals:                     494   BIC:                            -2468.\n",
            "Df Model:                           5                                         \n",
            "Covariance Type:                  HC1                                         \n",
            "==============================================================================\n",
            "                 coef    std err          z      P>|z|      [0.025      0.975]\n",
            "------------------------------------------------------------------------------\n",
            "Intercept     10.9075      0.001   1.03e+04      0.000      10.905      10.910\n",
            "D              0.3486      0.002    207.503      0.000       0.345       0.352\n",
            "Z_dm          -0.0092      0.000    -71.200      0.000      -0.009      -0.009\n",
            "Z_dm:D         0.0157      0.000     87.112      0.000       0.015       0.016\n",
            "Ypre_dm        1.0601      0.023     46.578      0.000       1.016       1.105\n",
            "Ypre_dm:D     -0.3146      0.040     -7.933      0.000      -0.392      -0.237\n",
            "==============================================================================\n",
            "Omnibus:                        3.346   Durbin-Watson:                   1.914\n",
            "Prob(Omnibus):                  0.188   Jarque-Bera (JB):                3.293\n",
            "Skew:                          -0.127   Prob(JB):                        0.193\n",
            "Kurtosis:                       3.305   Cond. No.                         502.\n",
            "==============================================================================\n",
            "\n",
            "Notes:\n",
            "[1] Standard Errors are heteroscedasticity robust (HC1)\n"
          ]
        }
      ],
      "source": [
        "# Demean Z and Ypre\n",
        "data['Z_dm'] = data['Z'] - data['Z'].mean()\n",
        "data['Ypre_dm'] = np.log(data['Ypre']) - np.log(data['Ypre']).mean()\n",
        "\n",
        "# Interactive regression adjusment (IRA)\n",
        "IRA = smf.ols(\"np.log(Y) ~ D + Z_dm + Z_dm*D + Ypre_dm + Ypre_dm*D\", data=data).fit(cov_type='HC1')\n",
        "print(IRA.summary())"
      ]
    },
    {
      "cell_type": "code",
      "execution_count": 229,
      "metadata": {},
      "outputs": [
        {
          "name": "stdout",
          "output_type": "stream",
          "text": [
            "CL se: 0.0092\n",
            "CRA se: 0.01191\n",
            "IRA se: 0.00168\n"
          ]
        }
      ],
      "source": [
        "print('CL se:', CL.bse['D'].round(5))\n",
        "print('CRA se:', CRA.bse['D'].round(5))\n",
        "print('IRA se:', IRA.bse['D'].round(5))"
      ]
    },
    {
      "cell_type": "markdown",
      "metadata": {},
      "source": [
        "Observe that CRA delivers estimates that are less efficient than CL (pointed out by Freedman), whereas IRA delivers estimates that are more efficient (pointed out by Lin). In order for CRA to be more efficient than CL, we need the linear model to be a correct model of the conditional expectation function of Y given D and X, which is not the case here."
      ]
    },
    {
      "cell_type": "markdown",
      "metadata": {},
      "source": [
        "## CUPED: Controlled-Experiment using Pre-Experiment Data\n",
        "\n",
        "This is a very popular technique in business settings to increase the power of RCTs.\n",
        "\n",
        "For a recent perspective on CUPED, see \n",
        "- [A New Look at CUPED in 2023](https://arxiv.org/pdf/2312.02935)\n",
        "- [Powering Experiments with CUPED](https://towardsdatascience.com/powering-experiments-with-cuped-and-double-machine-learning-34dc2f3d3284)\n",
        "- [Understanding CUPED](https://matteocourthoud.github.io/post/cuped/).\n",
        "\n",
        "Steps to implement CUPED:\n",
        "1. Regress $Y$ on $X \\equiv [Z, Y_{t-1}]$ and obtain the residuals $\\hat{Y}_{\\text{cuped}} = Y - \\hat{\\beta}X$.\n",
        "2. Regress $\\hat{Y}_{\\text{cuped}}$ on $D$ and obtain the treatment effect"
      ]
    },
    {
      "cell_type": "code",
      "execution_count": 230,
      "metadata": {
        "id": "39OJGstfLTfh"
      },
      "outputs": [
        {
          "name": "stdout",
          "output_type": "stream",
          "text": [
            "                            OLS Regression Results                            \n",
            "==============================================================================\n",
            "Dep. Variable:                Y_tilde   R-squared:                       0.839\n",
            "Model:                            OLS   Adj. R-squared:                  0.839\n",
            "Method:                 Least Squares   F-statistic:                     856.9\n",
            "Date:                Wed, 04 Sep 2024   Prob (F-statistic):          2.64e-110\n",
            "Time:                        14:17:50   Log-Likelihood:                 692.65\n",
            "No. Observations:                 500   AIC:                            -1381.\n",
            "Df Residuals:                     498   BIC:                            -1373.\n",
            "Df Model:                           1                                         \n",
            "Covariance Type:                  HC1                                         \n",
            "==============================================================================\n",
            "                 coef    std err          z      P>|z|      [0.025      0.975]\n",
            "------------------------------------------------------------------------------\n",
            "Intercept     -0.0679      0.002    -37.743      0.000      -0.071      -0.064\n",
            "D              0.3500      0.012     29.272      0.000       0.327       0.373\n",
            "==============================================================================\n",
            "Omnibus:                       62.017   Durbin-Watson:                   1.975\n",
            "Prob(Omnibus):                  0.000   Jarque-Bera (JB):              476.455\n",
            "Skew:                          -0.134   Prob(JB):                    3.46e-104\n",
            "Kurtosis:                       7.775   Cond. No.                         2.64\n",
            "==============================================================================\n",
            "\n",
            "Notes:\n",
            "[1] Standard Errors are heteroscedasticity robust (HC1)\n"
          ]
        }
      ],
      "source": [
        "# Compute residuals\n",
        "data['Y_tilde'] = smf.ols(\"np.log(Y) ~ Z_dm + Ypre_dm\", data=data).fit().resid\n",
        "cuped = smf.ols(\"Y_tilde ~ D\", data=data).fit(cov_type='HC1')\n",
        "print(cuped.summary())"
      ]
    },
    {
      "cell_type": "code",
      "execution_count": 231,
      "metadata": {},
      "outputs": [
        {
          "name": "stdout",
          "output_type": "stream",
          "text": [
            "CUPED se: 0.01196\n"
          ]
        }
      ],
      "source": [
        "print(\"CUPED se:\", cuped.bse[\"D\"].round(5))"
      ]
    },
    {
      "cell_type": "code",
      "execution_count": null,
      "metadata": {},
      "outputs": [],
      "source": []
    }
  ],
  "metadata": {
    "colab": {
      "provenance": []
    },
    "kernelspec": {
      "display_name": "Python 3 (ipykernel)",
      "language": "python",
      "name": "python3"
    },
    "language_info": {
      "codemirror_mode": {
        "name": "ipython",
        "version": 3
      },
      "file_extension": ".py",
      "mimetype": "text/x-python",
      "name": "python",
      "nbconvert_exporter": "python",
      "pygments_lexer": "ipython3",
      "version": "3.9.12"
    },
    "papermill": {
      "default_parameters": {},
      "duration": 7.390855,
      "end_time": "2021-02-24T00:00:04.661485",
      "environment_variables": {},
      "exception": null,
      "input_path": "__notebook__.ipynb",
      "output_path": "__notebook__.ipynb",
      "parameters": {},
      "start_time": "2021-02-23T23:59:57.270630",
      "version": "2.2.2"
    }
  },
  "nbformat": 4,
  "nbformat_minor": 0
}
