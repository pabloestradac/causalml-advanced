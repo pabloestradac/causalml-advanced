{
 "cells": [
  {
   "cell_type": "markdown",
   "metadata": {},
   "source": [
    "# Multiple Randomization Design\n",
    "\n",
    "### Double-sided Marketplace\n",
    "\n",
    "[Bajari et al. (2023)](https://www.amazon.science/publications/experimental-design-in-marketplaces) discuss a business scenario involving a video streaming service where viewers watch content provided by various content creators. The company is interested in understanding the impact of increasing the number of advertisements shown before the content begins (referred to as Pre-Roll Ads or PRAs) on the time viewers spend watching the content.\n",
    "\n",
    "The specific business problem is to assess the effect of doubling the number of PRAs (from one to two) on the engagement of viewers with content creators. The company needs to determine whether increasing the number of PRAs will reduce viewer engagement and how content creators might react to this change, particularly in terms of adjusting the number of ads shown during the content (Mid-Roll Ads or MRAs). You can refer to the paper for more details on MRAs and PRAs.\n",
    "\n",
    "### Experimental Setup\n",
    "\n",
    "The viewer-creator pair $(i, j)$ is the unit of observation in this experiment. The outcome of interest $Y_{ij}$ is the time spent by viewer $i$ watching content from creator $j$. We are interested in the effect of doubling the number of PRAs to all viewers. This is represented by\n",
    "$$\n",
    "\\tau=\\frac{1}{I J} \\sum_{i=1}^I \\sum_{j=1}^J\\left(Y_{ij}(\\mathbf{T}) - Y_{ij}(\\mathbf{C})\\right) ,\n",
    "$$\n",
    "where $Y_{ij}(\\mathbf{T})$ is the potential time spent when every viewer-created pair is exposed to two PRAs, $Y_{ij}(\\mathbf{C})$ is the potential time spent when every viewer-created pair is exposed to one PRA, and $I$ and $J$ are the number of viewers and content creators, respectively.\n",
    "\n",
    "$$\n",
    "\\mathbf{Y} = \n",
    "\\begin{pmatrix}\n",
    "Y_{1,1} & Y_{1,2} & Y_{1,3} & Y_{1,4} & Y_{1,5} & Y_{1,6} \\\\\n",
    "Y_{2,1} & Y_{2,2} & Y_{2,3} & Y_{2,4} & Y_{2,5} & Y_{2,6} \\\\\n",
    "Y_{3,1} & Y_{3,2} & Y_{3,3} & Y_{3,4} & Y_{3,5} & Y_{3,6} \\\\\n",
    "Y_{4,1} & Y_{4,2} & Y_{4,3} & Y_{4,4} & Y_{4,5} & Y_{4,6} \\\\\n",
    "Y_{5,1} & Y_{5,2} & Y_{5,3} & Y_{5,4} & Y_{5,5} & Y_{5,6} \\\\\n",
    "Y_{6,1} & Y_{6,2} & Y_{6,3} & Y_{6,4} & Y_{6,5} & Y_{6,6} \\\\\n",
    "Y_{7,1} & Y_{7,2} & Y_{7,3} & Y_{7,4} & Y_{7,5} & Y_{7,6} \\\\\n",
    "Y_{8,1} & Y_{8,2} & Y_{8,3} & Y_{8,4} & Y_{8,5} & Y_{8,6} \\\\\n",
    "Y_{9,1} & Y_{9,2} & Y_{9,3} & Y_{9,4} & Y_{9,5} & Y_{9,6} \\\\\n",
    "Y_{10,1} & Y_{10,2} & Y_{10,3} & Y_{10,4} & Y_{10,5} & Y_{10,6} \\\\\n",
    "\\end{pmatrix}\n",
    "$$\n",
    "\n",
    "\n",
    "- *Direct Effects:* changes in outcome for a viewer-creator pair $(i, j)$ caused directly by a change in exposure for that pair, $W_{i j}$.\n",
    "- *Spillover Effects:* changes in outcome for viewer-creator pair $(i, j)$ caused indirectly by the change in exposure for another pair $(i', j') \\neq(i, j)$.\n",
    "\n",
    "When full exposure $\\mathbf{T}$ is implemented, meaning the new policy of showing two PRAs is applied to all viewer-creator pairs, both direct and spillover effects occur. With the direct effect, the viewers' experience is impacted by the additional PRAs, which is expected to lead to fewer streams being watched overall. This effect is captured by a \"dispersion\" parameter, $\\delta > 0$. This triggers an indirect response from content creators: as a result of the viewers' dispersion, some content creators may choose to reduce their MRAs to lessen the impact of the increased PRAs. This response is captured by a \"premium\" parameter, $\\alpha > 0$."
   ]
  },
  {
   "cell_type": "code",
   "execution_count": 183,
   "metadata": {},
   "outputs": [],
   "source": [
    "import numpy as np\n",
    "import pandas as pd\n",
    "\n",
    "rng = np.random.default_rng(42)\n",
    "\n",
    "# Define the number of buyers (I) and sellers (J)\n",
    "I = 4000  # Number of buyers\n",
    "J = 100   # Number of sellers"
   ]
  },
  {
   "cell_type": "code",
   "execution_count": 184,
   "metadata": {},
   "outputs": [
    {
     "data": {
      "text/plain": [
       "array([[  0,   0,   0,   0,   0, 231,   0,   0,   0,   0],\n",
       "       [228,   0,   0, 339,   0,   0,   0,   0,   0, 295],\n",
       "       [  0, 218,   0,   0,   0,   0,   0,   0,   0,   0],\n",
       "       [  0,   0,   0,   0,   0,   0,   0,   0,   0,   0],\n",
       "       [  0, 246,   0,   0, 221,   0,   0,   0,   0, 269],\n",
       "       [  0,   0, 215,   0,   0,   0,   0,   0,   0,   0],\n",
       "       [  0,   0, 270,   0, 263,   0,   0,   0,   0,   0],\n",
       "       [  0,   0,   0,   0,   0,   0,   0,   0,   0,   0],\n",
       "       [  0,   0,   0,   0,   0,   0,   0,   0,   0, 242],\n",
       "       [  0,   0,   0,   0, 390,   0,   0,   0,   0,   0]])"
      ]
     },
     "execution_count": 184,
     "metadata": {},
     "output_type": "execute_result"
    }
   ],
   "source": [
    "# Generate the potential outcomes with one PRA Y_ij(C)\n",
    "\n",
    "# Probability that the outcome is zero\n",
    "pi = 0.1\n",
    "B_0 = rng.binomial(1, pi, (I, J))\n",
    "\n",
    "# Mean 300 minutes/month per active content\n",
    "mean0, sd0 = (300, 50)\n",
    "F_0 = rng.gamma(mean0**2/sd0**2, sd0**2/mean0, (I, J))\n",
    "\n",
    "# Potential outcomes when nobody is treated\n",
    "Y_C = B_0 * F_0\n",
    "\n",
    "Y_C[:10, :10].round(0).astype(int)"
   ]
  },
  {
   "cell_type": "code",
   "execution_count": 185,
   "metadata": {},
   "outputs": [
    {
     "data": {
      "text/plain": [
       "array([[  0,   0,   0,   0,   0, 216,   0,   0,   0,   0],\n",
       "       [225,   0,   0, 339,   0,   0,   0,   0,   0, 296],\n",
       "       [  0, 218,   0,   0,   0,   0,   0,   0,   0,   0],\n",
       "       [  0,   0,   0,   0,   0,   0,   0,   0,   0,   0],\n",
       "       [  0, 240,   0,   0, 221,   0,   0,   0,   0, 100],\n",
       "       [  0,   0, 214,   0,   0,   0,   0,   0,   0,   0],\n",
       "       [  0,   0, 270,   0, 373,   0,   0,   0,   0,   0],\n",
       "       [  0,   0,   0,   0,   0,   0,   0,   0,   0,   0],\n",
       "       [  0,   0,   0,   0,   0,   0,   0,   0,   0, 237],\n",
       "       [  0,   0,   0,   0, 378,   0,   0,   0,   0,   0]])"
      ]
     },
     "execution_count": 185,
     "metadata": {},
     "output_type": "execute_result"
    }
   ],
   "source": [
    "# Generate the potential outcomes with double PRA Y_ij(T)\n",
    "\n",
    "# Dispersion: decrease in time viewers spend watching a stream when PRAs are increased\n",
    "muD, sdD = (0.05, 0.1)\n",
    "alphaD = ((1-muD)/sdD**2 - 1/muD) * muD**2\n",
    "betaD = alphaD * (1/muD - 1)\n",
    "Dispersion = rng.beta(alphaD, betaD, size=(I, J))  # Direct effect\n",
    "\n",
    "# Premium: extra time viewers spend watching a stream when MRAs are reduced\n",
    "muA, sdA = (0.02, 0.1)\n",
    "alphaA = ((1-muA)/sdA**2 - 1/muA) * muA**2\n",
    "betaA = alphaA * (1/muA - 1)\n",
    "Premium = rng.beta(alphaA, betaA, size=(I, J))\n",
    "\n",
    "# Potential outcomes when everyone is treated\n",
    "Y_T = Y_C * (1 + Premium - Dispersion)\n",
    "\n",
    "Y_T[:10, :10].round(0).astype(int)"
   ]
  },
  {
   "cell_type": "code",
   "execution_count": 186,
   "metadata": {},
   "outputs": [
    {
     "name": "stdout",
     "output_type": "stream",
     "text": [
      "ATE: -0.8855\n"
     ]
    }
   ],
   "source": [
    "# Average treatment effect\n",
    "ATE = (Y_T - Y_C).mean()\n",
    "print(f\"ATE: {ATE:.4f}\")"
   ]
  },
  {
   "cell_type": "markdown",
   "metadata": {},
   "source": [
    "## Viewer-Randomized Experiment\n",
    "\n",
    "Randomize viewers into treatment and control groups regardless of the content they are watching:\n",
    "\n",
    "$$\n",
    "\\mathbf{W} = \n",
    "\\begin{pmatrix}\n",
    "\\textcolor{blue}{C} & \\textcolor{blue}{C} & \\textcolor{blue}{C} & \\textcolor{blue}{C} & \\textcolor{blue}{C} & \\textcolor{blue}{C} \\\\\n",
    "\\textcolor{blue}{C} & \\textcolor{blue}{C} & \\textcolor{blue}{C} & \\textcolor{blue}{C} & \\textcolor{blue}{C} & \\textcolor{blue}{C} \\\\\n",
    "\\textcolor{red}{T} & \\textcolor{red}{T} & \\textcolor{red}{T} & \\textcolor{red}{T} & \\textcolor{red}{T} & \\textcolor{red}{T} \\\\\n",
    "\\textcolor{red}{T} & \\textcolor{red}{T} & \\textcolor{red}{T} & \\textcolor{red}{T} & \\textcolor{red}{T} & \\textcolor{red}{T} \\\\\n",
    "\\textcolor{blue}{C} & \\textcolor{blue}{C} & \\textcolor{blue}{C} & \\textcolor{blue}{C} & \\textcolor{blue}{C} & \\textcolor{blue}{C} \\\\\n",
    "\\textcolor{red}{T} & \\textcolor{red}{T} & \\textcolor{red}{T} & \\textcolor{red}{T} & \\textcolor{red}{T} & \\textcolor{red}{T} \\\\\n",
    "\\textcolor{blue}{C} & \\textcolor{blue}{C} & \\textcolor{blue}{C} & \\textcolor{blue}{C} & \\textcolor{blue}{C} & \\textcolor{blue}{C} \\\\\n",
    "\\textcolor{red}{T} & \\textcolor{red}{T} & \\textcolor{red}{T} & \\textcolor{red}{T} & \\textcolor{red}{T} & \\textcolor{red}{T} \\\\\n",
    "\\textcolor{red}{T} & \\textcolor{red}{T} & \\textcolor{red}{T} & \\textcolor{red}{T} & \\textcolor{red}{T} & \\textcolor{red}{T} \\\\\n",
    "\\textcolor{blue}{C} & \\textcolor{blue}{C} & \\textcolor{blue}{C} & \\textcolor{blue}{C} & \\textcolor{blue}{C} & \\textcolor{blue}{C} \\\\\n",
    "\\end{pmatrix}\n",
    "$$\n",
    "\n",
    "- *Direct Effect:* viewers in the treatment group that are exposed to two PRAs will spend less time watching any content\n",
    "- *Indirect Effect:* some content creators might strategically reduce MRAs because of the risk of losing viewers with two PRAs (negative externality), but viewers in the control group might engage more with these content creators that are reducing MRAs (positive externality)\n",
    "\n"
   ]
  },
  {
   "cell_type": "code",
   "execution_count": 187,
   "metadata": {},
   "outputs": [
    {
     "name": "stdout",
     "output_type": "stream",
     "text": [
      "ATE: -1.7237\n"
     ]
    }
   ],
   "source": [
    "# Randomize viewer treatment assignment\n",
    "pv = 0.5\n",
    "Dv = rng.binomial(1, pv, size=I)\n",
    "\n",
    "# Control group gets the premium\n",
    "Yvr_C = Y_C[Dv==0] * (1 + Premium[Dv==0])\n",
    "\n",
    "# Treatment group gets the premium and the dispersion\n",
    "Yvr_T = Y_C[Dv==1] * (1 + Premium[Dv==1] - Dispersion[Dv==1])\n",
    "\n",
    "# Average treatment effect\n",
    "ATE_vr = Yvr_T.mean() - Yvr_C.mean()\n",
    "print(f\"ATE: {ATE_vr:.4f}\")"
   ]
  },
  {
   "cell_type": "markdown",
   "metadata": {},
   "source": [
    "The comparison between the treated and control viewers is overestimating (in absolute value) the effect of the treatment."
   ]
  },
  {
   "cell_type": "markdown",
   "metadata": {},
   "source": [
    "## Creator-Randomized Experiment\n",
    "\n",
    "Randomize content creators into treatment and control groups with every one of their viewers seeing the same number of PRAs:\n",
    "\n",
    "$$\n",
    "\\mathbf{W} = \n",
    "\\begin{pmatrix}\n",
    "\\textcolor{blue}{C} & \\textcolor{red}{T} & \\textcolor{blue}{C} & \\textcolor{red}{T} & \\textcolor{blue}{C} & \\textcolor{red}{T} \\\\\n",
    "\\textcolor{blue}{C} & \\textcolor{red}{T} & \\textcolor{blue}{C} & \\textcolor{red}{T} & \\textcolor{blue}{C} & \\textcolor{red}{T} \\\\\n",
    "\\textcolor{blue}{C} & \\textcolor{red}{T} & \\textcolor{blue}{C} & \\textcolor{red}{T} & \\textcolor{blue}{C} & \\textcolor{red}{T} \\\\\n",
    "\\textcolor{blue}{C} & \\textcolor{red}{T} & \\textcolor{blue}{C} & \\textcolor{red}{T} & \\textcolor{blue}{C} & \\textcolor{red}{T} \\\\\n",
    "\\textcolor{blue}{C} & \\textcolor{red}{T} & \\textcolor{blue}{C} & \\textcolor{red}{T} & \\textcolor{blue}{C} & \\textcolor{red}{T} \\\\\n",
    "\\textcolor{blue}{C} & \\textcolor{red}{T} & \\textcolor{blue}{C} & \\textcolor{red}{T} & \\textcolor{blue}{C} & \\textcolor{red}{T} \\\\\n",
    "\\textcolor{blue}{C} & \\textcolor{red}{T} & \\textcolor{blue}{C} & \\textcolor{red}{T} & \\textcolor{blue}{C} & \\textcolor{red}{T} \\\\\n",
    "\\textcolor{blue}{C} & \\textcolor{red}{T} & \\textcolor{blue}{C} & \\textcolor{red}{T} & \\textcolor{blue}{C} & \\textcolor{red}{T} \\\\\n",
    "\\textcolor{blue}{C} & \\textcolor{red}{T} & \\textcolor{blue}{C} & \\textcolor{red}{T} & \\textcolor{blue}{C} & \\textcolor{red}{T} \\\\\n",
    "\\textcolor{blue}{C} & \\textcolor{red}{T} & \\textcolor{blue}{C} & \\textcolor{red}{T} & \\textcolor{blue}{C} & \\textcolor{red}{T} \\\\\n",
    "\\end{pmatrix}\n",
    "$$\n",
    "\n",
    "- *Direct Effect:* creators in the treatment group that are exposed to two PRAs will become less attractive to viewers\n",
    "- *Indirect Effect:* content creators in the treatment group might strategically reduce MRAs because of the risk of losing their viewers, while creators in the control group might increase MRAs more because the viewers they attract see only one PRA.\n",
    "\n"
   ]
  },
  {
   "cell_type": "code",
   "execution_count": 188,
   "metadata": {},
   "outputs": [
    {
     "name": "stdout",
     "output_type": "stream",
     "text": [
      "ATE: -4.7028\n"
     ]
    }
   ],
   "source": [
    "# Randomize creator treatment assignment\n",
    "pc = 0.5\n",
    "Dc = rng.binomial(1, pc, size=J)\n",
    "\n",
    "# Dummy for switching: whether viewer i would switch to content j\n",
    "Switch_dummy = rng.binomial(1, pi, size=(I, J))\n",
    "\n",
    "# Elasticity of switching: fraction of the time viewer i would switch to other content\n",
    "muG, sdG = (0.075, 0.1)\n",
    "alphaG = ((1-muG)/sdG**2 - 1/muG) * muG**2\n",
    "betaG = alphaG * (1/muG - 1)\n",
    "Switch_elasticity = np.repeat(rng.beta(alphaG, betaG, size=I)[:, np.newaxis], J, axis=1)\n",
    "\n",
    "# Control group gets the switching bonus\n",
    "Switch_bonus = Switch_dummy/pi * pc/(1-pc)*(Switch_elasticity - Premium.mean())\n",
    "Ycc_C = Y_C[:, Dc==0] * (1 + Switch_bonus[:, Dc==0])\n",
    "\n",
    "# Treatment group gets the switching elaticity, the premium, and the dispersion\n",
    "Ycc_T = Y_C[:, Dc==1] * (1 - Switch_elasticity[:, Dc==1] + Premium[:, Dc==1] - Dispersion[:, Dc==1])\n",
    "\n",
    "# Average treatment effect\n",
    "ATE_cc = Ycc_T.mean() - Ycc_C.mean()\n",
    "print(f\"ATE: {ATE_cc:.4f}\")"
   ]
  },
  {
   "cell_type": "markdown",
   "metadata": {},
   "source": [
    "## Double-Randomized Experiment\n",
    "\n",
    "Randomize content creators into treatment and control groups, while simultaneously randomizing viewers into treatment and control groups:\n",
    "\n",
    "$$\n",
    "\\mathbf{W} = \n",
    "\\begin{pmatrix}\n",
    "\\textcolor{green}{C} & \\textcolor{black}{T} & \\textcolor{black}{T} & \\textcolor{green}{C} & \\textcolor{green}{C} & \\textcolor{black}{T} \\\\\n",
    "\\textcolor{green}{C} & \\textcolor{black}{T} & \\textcolor{black}{T} & \\textcolor{green}{C} & \\textcolor{green}{C} & \\textcolor{black}{T} \\\\\n",
    "\\textcolor{green}{C} & \\textcolor{black}{T} & \\textcolor{black}{T} & \\textcolor{green}{C} & \\textcolor{green}{C} & \\textcolor{black}{T} \\\\\n",
    "\\textcolor{green}{C} & \\textcolor{black}{T} & \\textcolor{black}{T} & \\textcolor{green}{C} & \\textcolor{green}{C} & \\textcolor{black}{T} \\\\\n",
    "\\textcolor{green}{C} & \\textcolor{black}{T} & \\textcolor{black}{T} & \\textcolor{green}{C} & \\textcolor{green}{C} & \\textcolor{black}{T} \\\\\n",
    "\\textcolor{red}{C} & \\textcolor{blue}{C} & \\textcolor{blue}{C} & \\textcolor{red}{C} & \\textcolor{red}{C} & \\textcolor{blue}{C} \\\\\n",
    "\\textcolor{red}{C} & \\textcolor{blue}{C} & \\textcolor{blue}{C} & \\textcolor{red}{C} & \\textcolor{red}{C} & \\textcolor{blue}{C} \\\\\n",
    "\\textcolor{red}{C} & \\textcolor{blue}{C} & \\textcolor{blue}{C} & \\textcolor{red}{C} & \\textcolor{red}{C} & \\textcolor{blue}{C} \\\\\n",
    "\\textcolor{red}{C} & \\textcolor{blue}{C} & \\textcolor{blue}{C} & \\textcolor{red}{C} & \\textcolor{red}{C} & \\textcolor{blue}{C} \\\\\n",
    "\\textcolor{red}{C} & \\textcolor{blue}{C} & \\textcolor{blue}{C} & \\textcolor{red}{C} & \\textcolor{red}{C} & \\textcolor{blue}{C} \\\\\n",
    "\\end{pmatrix}\n",
    "$$\n",
    "\n",
    "- consistent controls $(\\textcolor{red}{C_{ij}})$: viewer $i$ never experiences more than one PRA and the stream of creator $j$ never experience more than one PRA\n",
    "- inconsistent viewers $(\\textcolor{green}{C_{ij}})$: viewer $i$ experiences one PRA for creator $j$ AND NO other viewer $i'$ experiences two PRAs for creator $j$\n",
    "- inconsistent creators $(\\textcolor{blue}{C_{ij}})$: viewer $i$ experiences one PRA for creator $j$, BUT other viewers $i'$ experience two PRAs for creator $j$\n",
    "- treatment $(\\textcolor{black}{T_{ij}})$: viewer $i$ experiences two PRAs for creator $j$\n",
    "\n"
   ]
  },
  {
   "cell_type": "code",
   "execution_count": 189,
   "metadata": {},
   "outputs": [
    {
     "name": "stdout",
     "output_type": "stream",
     "text": [
      "ATE: -6.7152\n"
     ]
    }
   ],
   "source": [
    "# Consistent controls\n",
    "Y_CC = Y_C[Dv==0][:, Dc==0]\n",
    "\n",
    "# Inconsistent viewers\n",
    "Y_IV = Y_C[Dv==1][:, Dc==0] * (1 + Switch_bonus[Dv==1][:, Dc==0])\n",
    "\n",
    "# Inconsistent creators\n",
    "Y_IC = Y_C[Dv==0][:, Dc==1] * (1 + Premium[Dv==0][:, Dc==1])\n",
    "\n",
    "# Treatment group\n",
    "Y_TT = Y_C[Dv==1][:, Dc==1] * (1 + Premium[Dv==1][:, Dc==1] - 2*Dispersion[Dv==1][:, Dc==1] - Switch_elasticity[Dv==1][:, Dc==1])\n",
    "\n",
    "# Average treatment effect\n",
    "ATE_dr = (Y_TT.mean() - Y_IC.mean()) - (Y_IV.mean() - Y_CC.mean())\n",
    "# ATE_dr = Y_TT.mean() - Y_CC.mean()\n",
    "print(f\"ATE: {ATE_dr:.4f}\")"
   ]
  },
  {
   "cell_type": "code",
   "execution_count": null,
   "metadata": {},
   "outputs": [],
   "source": []
  }
 ],
 "metadata": {
  "kernelspec": {
   "display_name": "base",
   "language": "python",
   "name": "python3"
  },
  "language_info": {
   "codemirror_mode": {
    "name": "ipython",
    "version": 3
   },
   "file_extension": ".py",
   "mimetype": "text/x-python",
   "name": "python",
   "nbconvert_exporter": "python",
   "pygments_lexer": "ipython3",
   "version": "3.9.12"
  }
 },
 "nbformat": 4,
 "nbformat_minor": 2
}
